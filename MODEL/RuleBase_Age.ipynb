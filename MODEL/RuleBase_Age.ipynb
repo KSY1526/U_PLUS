{
 "cells": [
  {
   "cell_type": "code",
   "execution_count": 34,
   "metadata": {},
   "outputs": [],
   "source": [
    "import warnings\n",
    "warnings.filterwarnings('ignore')\n",
    "\n",
    "import pandas as pd\n",
    "import os\n",
    "\n",
    "# 경로 설정\n",
    "data_path = '/opt/ml/uplus/data'\n",
    "saved_path = '../saved'\n",
    "output_path = '../submission'\n",
    "\n",
    "# 필요한 데이터 불러오기\n",
    "profile_df = pd.read_csv(os.path.join(data_path, 'profile_data.csv'), encoding='utf-8')\n",
    "history_df = pd.read_csv(os.path.join(data_path, 'history_data.csv'), encoding='utf-8')"
   ]
  },
  {
   "cell_type": "code",
   "execution_count": 35,
   "metadata": {},
   "outputs": [],
   "source": [
    "# 같은 시간에 시청한 이력 제거\n",
    "data = history_df[['profile_id', 'log_time', 'album_id']].drop_duplicates(subset=['profile_id', 'album_id', 'log_time']).sort_values(by = ['profile_id', 'log_time']).reset_index(drop = True)\n",
    "\n",
    "# log_time 컬럼은 필요없으므로 제거\n",
    "data = data.drop('log_time', axis=1)"
   ]
  },
  {
   "cell_type": "code",
   "execution_count": 36,
   "metadata": {},
   "outputs": [],
   "source": [
    "# profile_df에서 필요한 컬럼만 가져오기\n",
    "age_df = profile_df[['profile_id', 'age']]"
   ]
  },
  {
   "cell_type": "code",
   "execution_count": 37,
   "metadata": {},
   "outputs": [],
   "source": [
    "# age 그룹화(1~3세, 4~5세, 6~7세, 8~9세, 10~13세)\n",
    "# 실험결과 이렇게 나누는 것이 가장 최적의 그룹 구분법이였습니다.\n",
    "age_df['age'] = age_df['age'].replace(13, 10)\n",
    "age_df['age'] = age_df['age'].replace(12, 10)\n",
    "age_df['age'] = age_df['age'].replace(11, 10)\n",
    "age_df['age'] = age_df['age'].replace(3, 1)\n",
    "age_df['age'] = age_df['age'].replace(2, 1)\n",
    "age_df['age'] = age_df['age'].replace(4, 5)\n",
    "age_df['age'] = age_df['age'].replace(6, 7)\n",
    "age_df['age'] = age_df['age'].replace(8, 9)"
   ]
  },
  {
   "cell_type": "code",
   "execution_count": 38,
   "metadata": {},
   "outputs": [],
   "source": [
    "# user별로 가장 많이 본 순서대로 아이템 정렬(rulebase)\n",
    "rulebase_user = data.groupby(['profile_id']).apply(lambda x : x['album_id'].value_counts()).reset_index()\n",
    "rulebase_user = rulebase_user.groupby('profile_id')['level_1'].unique().to_frame().reset_index()\n",
    "\n",
    "# 나이 정보 추가(위에서 생성한 데이터 프레임에 나이 정보 추가)\n",
    "rulebase_user = pd.merge(rulebase_user, age_df, on = 'profile_id', how = 'left')"
   ]
  },
  {
   "cell_type": "code",
   "execution_count": 39,
   "metadata": {},
   "outputs": [],
   "source": [
    "# 나이 정보 추가(history_df를 적절하게 가공한 데이터 프레임에 나이 정보 추가)\n",
    "data_df = pd.merge(data, age_df, on = 'profile_id', how = 'left')\n",
    "\n",
    "# 나이별로 가장 많이 본 순서대로 아이템 정렬\n",
    "rulebase_age = data_df.groupby(['age']).apply(lambda x : x['album_id'].value_counts()).reset_index()\n",
    "rulebase_age = rulebase_age.groupby('age')['level_1'].unique().to_frame().reset_index()"
   ]
  },
  {
   "cell_type": "code",
   "execution_count": 40,
   "metadata": {},
   "outputs": [],
   "source": [
    "# user별 데이터와 나이별 데이터를 merge\n",
    "result_df = pd.merge(rulebase_user, rulebase_age, on = 'age', how = 'left')"
   ]
  },
  {
   "cell_type": "code",
   "execution_count": 41,
   "metadata": {},
   "outputs": [],
   "source": [
    "# 데이터 결합하는 함수\n",
    "def funs(x):\n",
    "    # user별 데이터와 나이별 데이터를 하나의 리스트로 합쳐 줌\n",
    "    tem = list(x['level_1_x']) + list(x['level_1_y'])\n",
    "    result = []\n",
    "    # 리스트의 아이템 개수가 25개가 될 때까지, 중복 없이 리스트에 아이템을 추가\n",
    "    for i in tem:\n",
    "        if i not in result:\n",
    "            result.append(i)\n",
    "        if len(result) == 25:\n",
    "            break\n",
    "    return result\n",
    "\n",
    "# 유저가 25개 이하의 아이템을 소비한 경우, 그 뒤에 나이별로 가장 많이 본 순서대로 정렬한 아이템을 붙여주는 코드\n",
    "result_df['predicted_list'] = result_df.apply(lambda x : list(x['level_1_x'][:25]) if len(x['level_1_x']) >= 25 else funs(x), axis = 1)"
   ]
  },
  {
   "cell_type": "code",
   "execution_count": 42,
   "metadata": {},
   "outputs": [],
   "source": [
    "# 데이터를 파일로 저장\n",
    "result_df[['profile_id', 'predicted_list']].to_csv(os.path.join(output_path, 'submission_rulebase_age.csv'), index = False)"
   ]
  }
 ],
 "metadata": {
  "kernelspec": {
   "display_name": "Python 3.9.15 ('recsys11')",
   "language": "python",
   "name": "python3"
  },
  "language_info": {
   "codemirror_mode": {
    "name": "ipython",
    "version": 3
   },
   "file_extension": ".py",
   "mimetype": "text/x-python",
   "name": "python",
   "nbconvert_exporter": "python",
   "pygments_lexer": "ipython3",
   "version": "3.9.15"
  },
  "orig_nbformat": 4,
  "vscode": {
   "interpreter": {
    "hash": "c981cde7d63b729c6e01e4493d76308d57a73bba16c757b928981bf79609f3a3"
   }
  }
 },
 "nbformat": 4,
 "nbformat_minor": 2
}
