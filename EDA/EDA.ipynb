{
 "cells": [
  {
   "cell_type": "markdown",
   "metadata": {},
   "source": [
    "# 데이터 EDA"
   ]
  },
  {
   "cell_type": "markdown",
   "metadata": {},
   "source": [
    "## 패키지 설치, 데이터 불러오기"
   ]
  },
  {
   "cell_type": "code",
   "execution_count": 1,
   "metadata": {},
   "outputs": [],
   "source": [
    "import warnings\n",
    "warnings.filterwarnings('ignore')\n",
    "\n",
    "import numpy as np\n",
    "import pandas as pd\n",
    "import matplotlib.pyplot as plt\n",
    "\n",
    "import os\n",
    "\n",
    "%matplotlib inline\n",
    "\n",
    "# 경로 설정\n",
    "data_path = '../../data'\n",
    "saved_path = './../saved'\n",
    "output_path = './../submission'"
   ]
  },
  {
   "cell_type": "code",
   "execution_count": 2,
   "metadata": {},
   "outputs": [],
   "source": [
    "# 데이터 불러오기\n",
    "# 시청 시작/종료 데이터\n",
    "history_df = pd.read_csv(os.path.join(data_path, 'history_data.csv'), encoding='utf-8')\n",
    "watch_df = pd.read_csv(os.path.join(data_path, 'watch_e_data.csv'), encoding='utf-8')\n",
    "\n",
    "# 구매/검색 데이터\n",
    "buy_df = pd.read_csv(os.path.join(data_path, 'buy_data.csv'), encoding='utf-8')\n",
    "search_df = pd.read_csv(os.path.join(data_path, 'search_data.csv'), encoding='utf-8')\n",
    "\n",
    "# 콘텐츠(아이템) 메타정보 데이터\n",
    "meta_df = pd.read_csv(os.path.join(data_path, 'meta_data.csv'), encoding='utf-8')\n",
    "meta_plus_df = pd.read_csv(os.path.join(data_path, 'meta_data_plus.csv'), encoding='utf-8')\n",
    "\n",
    "# 유저 프로필 데이터\n",
    "profile_df = pd.read_csv(os.path.join(data_path, 'profile_data.csv'), encoding='utf-8')\n",
    "\n",
    "# 제출 파일 데이터\n",
    "submission_df = pd.read_csv(os.path.join(data_path, 'sample_submission.csv'), encoding='utf-8')\n"
   ]
  },
  {
   "cell_type": "markdown",
   "metadata": {},
   "source": [
    "## 데이터 테이블 이해해보기"
   ]
  },
  {
   "cell_type": "markdown",
   "metadata": {},
   "source": [
    "### 유저 - 아이템 상호작용 데이터에 대해"
   ]
  },
  {
   "cell_type": "code",
   "execution_count": 4,
   "metadata": {},
   "outputs": [
    {
     "name": "stdout",
     "output_type": "stream",
     "text": [
      "history_df\n",
      "테이블 총 길이는 1005651\n",
      "아이템 개수는 20695\n",
      "유저 수는 8311\n",
      "act_target_dtl 변수는 MKID003\n",
      "\n",
      "watch_df\n",
      "테이블 총 길이는 892794\n",
      "아이템 개수는 20361\n",
      "유저 수는 7658\n",
      "act_target_dtl 변수는 MKID049\n",
      "\n",
      "buy_df\n",
      "테이블 총 길이는 150\n",
      "아이템 개수는 126\n",
      "유저 수는 17\n",
      "act_target_dtl 변수는 MKID004\n",
      "\n",
      "search_df\n",
      "테이블 총 길이는 6474\n",
      "아이템 개수는 1977\n",
      "유저 수는 644\n",
      "act_target_dtl 변수는 MKID017\n",
      "\n"
     ]
    },
    {
     "data": {
      "text/html": [
       "<div>\n",
       "<style scoped>\n",
       "    .dataframe tbody tr th:only-of-type {\n",
       "        vertical-align: middle;\n",
       "    }\n",
       "\n",
       "    .dataframe tbody tr th {\n",
       "        vertical-align: top;\n",
       "    }\n",
       "\n",
       "    .dataframe thead th {\n",
       "        text-align: right;\n",
       "    }\n",
       "</style>\n",
       "<table border=\"1\" class=\"dataframe\">\n",
       "  <thead>\n",
       "    <tr style=\"text-align: right;\">\n",
       "      <th></th>\n",
       "      <th>profile_id</th>\n",
       "      <th>ss_id</th>\n",
       "      <th>log_time</th>\n",
       "      <th>act_target_dtl</th>\n",
       "      <th>album_id</th>\n",
       "      <th>payment</th>\n",
       "      <th>continuous_play</th>\n",
       "      <th>short_trailer</th>\n",
       "    </tr>\n",
       "  </thead>\n",
       "  <tbody>\n",
       "    <tr>\n",
       "      <th>350249</th>\n",
       "      <td>7869</td>\n",
       "      <td>20220414223852</td>\n",
       "      <td>20220414234825</td>\n",
       "      <td>MKID003</td>\n",
       "      <td>2501</td>\n",
       "      <td>NaN</td>\n",
       "      <td>N</td>\n",
       "      <td>N</td>\n",
       "    </tr>\n",
       "    <tr>\n",
       "      <th>94794</th>\n",
       "      <td>2536</td>\n",
       "      <td>20220412202115</td>\n",
       "      <td>20220412202721</td>\n",
       "      <td>MKID003</td>\n",
       "      <td>80</td>\n",
       "      <td>NaN</td>\n",
       "      <td>Y</td>\n",
       "      <td>N</td>\n",
       "    </tr>\n",
       "    <tr>\n",
       "      <th>127045</th>\n",
       "      <td>2794</td>\n",
       "      <td>20220423001324</td>\n",
       "      <td>20220423001927</td>\n",
       "      <td>MKID003</td>\n",
       "      <td>241</td>\n",
       "      <td>NaN</td>\n",
       "      <td>N</td>\n",
       "      <td>N</td>\n",
       "    </tr>\n",
       "  </tbody>\n",
       "</table>\n",
       "</div>"
      ],
      "text/plain": [
       "        profile_id           ss_id        log_time act_target_dtl  album_id  \\\n",
       "350249        7869  20220414223852  20220414234825        MKID003      2501   \n",
       "94794         2536  20220412202115  20220412202721        MKID003        80   \n",
       "127045        2794  20220423001324  20220423001927        MKID003       241   \n",
       "\n",
       "        payment continuous_play short_trailer  \n",
       "350249      NaN               N             N  \n",
       "94794       NaN               Y             N  \n",
       "127045      NaN               N             N  "
      ]
     },
     "execution_count": 4,
     "metadata": {},
     "output_type": "execute_result"
    }
   ],
   "source": [
    "def info(table):\n",
    "    all_nums = table.shape[0]\n",
    "    item_nums = table['album_id'].nunique()\n",
    "    user_nums = table['profile_id'].nunique()\n",
    "    act_value = table['act_target_dtl'][0]\n",
    "    print(f'테이블 총 길이는 {all_nums}')\n",
    "    print(f'아이템 개수는 {item_nums}')\n",
    "    print(f'유저 수는 {user_nums}')\n",
    "    print(f'act_target_dtl 변수는 {act_value}')\n",
    "    print('')\n",
    "\n",
    "print('history_df')\n",
    "info(history_df)\n",
    "print('watch_df')\n",
    "info(watch_df)\n",
    "print('buy_df')\n",
    "info(buy_df)\n",
    "print('search_df')\n",
    "info(search_df)\n",
    "history_df.sample(3)"
   ]
  },
  {
   "cell_type": "markdown",
   "metadata": {},
   "source": [
    "history, watch, buy, search 총 4개 테이블이 유저와 아이템 간 상호작용 테이블 입니다.\n",
    "\n",
    "act_target_dtl은 로그 데이터에서 4개 테이블로 분류하기 위한 변수로 파악됩니다.\n",
    "\n",
    "history와 watch은 시청-종료를 각각 기록한 테이블로 파악됩니다. \n",
    "\n",
    "buy와 search 테이블은 history 테이블과 대비해 충분한 기록을 하고 있지 못합니다.\n",
    "\n",
    "그러므로 유저-아이템 상호작용은 history 테이블을 주로 사용할 것 입니다."
   ]
  },
  {
   "cell_type": "code",
   "execution_count": 5,
   "metadata": {},
   "outputs": [
    {
     "name": "stdout",
     "output_type": "stream",
     "text": [
      "8311\n",
      "8311\n"
     ]
    }
   ],
   "source": [
    "print(history_df['profile_id'].nunique())\n",
    "print(submission_df['profile_id'].nunique())"
   ]
  },
  {
   "cell_type": "markdown",
   "metadata": {},
   "source": [
    "대회는 3~4월과 5~7월에 시청 기록이 모두 있는 8311명의 유저를 대상으로 진행됩니다."
   ]
  },
  {
   "cell_type": "code",
   "execution_count": 6,
   "metadata": {},
   "outputs": [
    {
     "name": "stdout",
     "output_type": "stream",
     "text": [
      "<class 'pandas.core.frame.DataFrame'>\n",
      "RangeIndex: 1005651 entries, 0 to 1005650\n",
      "Data columns (total 8 columns):\n",
      " #   Column           Non-Null Count    Dtype  \n",
      "---  ------           --------------    -----  \n",
      " 0   profile_id       1005651 non-null  int64  \n",
      " 1   ss_id            1005651 non-null  int64  \n",
      " 2   log_time         1005651 non-null  int64  \n",
      " 3   act_target_dtl   1005651 non-null  object \n",
      " 4   album_id         1005651 non-null  int64  \n",
      " 5   payment          73486 non-null    float64\n",
      " 6   continuous_play  1005651 non-null  object \n",
      " 7   short_trailer    1005651 non-null  object \n",
      "dtypes: float64(1), int64(4), object(3)\n",
      "memory usage: 61.4+ MB\n"
     ]
    }
   ],
   "source": [
    "history_df.info()"
   ]
  },
  {
   "cell_type": "code",
   "execution_count": 7,
   "metadata": {},
   "outputs": [
    {
     "data": {
      "text/plain": [
       "<AxesSubplot: >"
      ]
     },
     "execution_count": 7,
     "metadata": {},
     "output_type": "execute_result"
    },
    {
     "data": {
      "image/png": "[encoded data removed]",
      "text/plain": [
       "<Figure size 640x480 with 1 Axes>"
      ]
     },
     "metadata": {},
     "output_type": "display_data"
    }
   ],
   "source": [
    "history_df['payment'].hist()"
   ]
  },
  {
   "cell_type": "markdown",
   "metadata": {},
   "source": [
    "payment 변수가 과도하게 결측치가 있는 것을 제외하고 다른 변수들은 결측치가 없습니다.\n",
    "\n",
    "payment 변수의 히스토그램을 바탕으로 나름의 추론을 해보면 결측치는 무료로 시청한 것을 의미하는 것 같아요."
   ]
  },
  {
   "cell_type": "markdown",
   "metadata": {},
   "source": [
    "### 아이템에 대해"
   ]
  },
  {
   "cell_type": "code",
   "execution_count": 8,
   "metadata": {},
   "outputs": [
    {
     "name": "stdout",
     "output_type": "stream",
     "text": [
      "(42602, 16)\n",
      "(767948, 4)\n",
      "meta 테이블 아이템 개수는 39875\n",
      "meta_plus 테이블 아이템 개수는 39875\n",
      "history 테이블 아이템 개수는 20695\n"
     ]
    }
   ],
   "source": [
    "print(meta_df.shape)\n",
    "print(meta_plus_df.shape)\n",
    "print('meta 테이블 아이템 개수는', meta_df['album_id'].nunique())\n",
    "print('meta_plus 테이블 아이템 개수는', meta_plus_df['album_id'].nunique())\n",
    "print('history 테이블 아이템 개수는', history_df['album_id'].nunique())"
   ]
  },
  {
   "cell_type": "markdown",
   "metadata": {},
   "source": [
    "기록되어있는 아이템의 개수는 약 4만개 입니다. \n",
    "\n",
    "다만 history 테이블에 있는 아이템은 2만개로 절반정도 아이템은 3~4월에 소비되지 않았습니다."
   ]
  },
  {
   "cell_type": "code",
   "execution_count": 10,
   "metadata": {},
   "outputs": [
    {
     "data": {
      "text/html": [
       "<div>\n",
       "<style scoped>\n",
       "    .dataframe tbody tr th:only-of-type {\n",
       "        vertical-align: middle;\n",
       "    }\n",
       "\n",
       "    .dataframe tbody tr th {\n",
       "        vertical-align: top;\n",
       "    }\n",
       "\n",
       "    .dataframe thead th {\n",
       "        text-align: right;\n",
       "    }\n",
       "</style>\n",
       "<table border=\"1\" class=\"dataframe\">\n",
       "  <thead>\n",
       "    <tr style=\"text-align: right;\">\n",
       "      <th></th>\n",
       "      <th>album_id</th>\n",
       "      <th>title</th>\n",
       "      <th>sub_title</th>\n",
       "      <th>genre_large</th>\n",
       "      <th>genre_mid</th>\n",
       "      <th>genre_small</th>\n",
       "      <th>country</th>\n",
       "      <th>run_time</th>\n",
       "      <th>onair_date</th>\n",
       "      <th>cast_1</th>\n",
       "      <th>cast_2</th>\n",
       "      <th>cast_3</th>\n",
       "      <th>cast_4</th>\n",
       "      <th>cast_5</th>\n",
       "      <th>cast_6</th>\n",
       "      <th>cast_7</th>\n",
       "    </tr>\n",
       "  </thead>\n",
       "  <tbody>\n",
       "    <tr>\n",
       "      <th>12913</th>\n",
       "      <td>16127</td>\n",
       "      <td>버려 버려 다 버려! 외</td>\n",
       "      <td>엘리의 생활동화1</td>\n",
       "      <td>키즈</td>\n",
       "      <td>놀이교실</td>\n",
       "      <td>독서동화</td>\n",
       "      <td>NaN</td>\n",
       "      <td>746</td>\n",
       "      <td>NaN</td>\n",
       "      <td>엘리</td>\n",
       "      <td>NaN</td>\n",
       "      <td>NaN</td>\n",
       "      <td>NaN</td>\n",
       "      <td>NaN</td>\n",
       "      <td>NaN</td>\n",
       "      <td>NaN</td>\n",
       "    </tr>\n",
       "    <tr>\n",
       "      <th>7607</th>\n",
       "      <td>24065</td>\n",
       "      <td>새콤달콤! 쑥버무리!</td>\n",
       "      <td>빵빵 요리 버스</td>\n",
       "      <td>키즈</td>\n",
       "      <td>놀이교실</td>\n",
       "      <td>창의학습</td>\n",
       "      <td>NaN</td>\n",
       "      <td>838</td>\n",
       "      <td>20160411.0</td>\n",
       "      <td>토미</td>\n",
       "      <td>새미</td>\n",
       "      <td>빵빵</td>\n",
       "      <td>NaN</td>\n",
       "      <td>NaN</td>\n",
       "      <td>NaN</td>\n",
       "      <td>NaN</td>\n",
       "    </tr>\n",
       "    <tr>\n",
       "      <th>20509</th>\n",
       "      <td>34503</td>\n",
       "      <td>Silly Little Duck</td>\n",
       "      <td>열매(6단계) 레벨</td>\n",
       "      <td>키즈</td>\n",
       "      <td>외국어</td>\n",
       "      <td>영어</td>\n",
       "      <td>한국</td>\n",
       "      <td>65</td>\n",
       "      <td>NaN</td>\n",
       "      <td>NaN</td>\n",
       "      <td>NaN</td>\n",
       "      <td>NaN</td>\n",
       "      <td>NaN</td>\n",
       "      <td>NaN</td>\n",
       "      <td>NaN</td>\n",
       "      <td>NaN</td>\n",
       "    </tr>\n",
       "  </tbody>\n",
       "</table>\n",
       "</div>"
      ],
      "text/plain": [
       "       album_id              title   sub_title genre_large genre_mid  \\\n",
       "12913     16127      버려 버려 다 버려! 외   엘리의 생활동화1          키즈      놀이교실   \n",
       "7607      24065        새콤달콤! 쑥버무리!    빵빵 요리 버스          키즈      놀이교실   \n",
       "20509     34503  Silly Little Duck  열매(6단계) 레벨          키즈       외국어   \n",
       "\n",
       "      genre_small country  run_time  onair_date cast_1 cast_2 cast_3 cast_4  \\\n",
       "12913        독서동화     NaN       746         NaN     엘리    NaN    NaN    NaN   \n",
       "7607         창의학습     NaN       838  20160411.0     토미     새미     빵빵    NaN   \n",
       "20509          영어      한국        65         NaN    NaN    NaN    NaN    NaN   \n",
       "\n",
       "      cast_5 cast_6 cast_7  \n",
       "12913    NaN    NaN    NaN  \n",
       "7607     NaN    NaN    NaN  \n",
       "20509    NaN    NaN    NaN  "
      ]
     },
     "execution_count": 10,
     "metadata": {},
     "output_type": "execute_result"
    }
   ],
   "source": [
    "meta_df.sample(3)"
   ]
  },
  {
   "cell_type": "code",
   "execution_count": 11,
   "metadata": {},
   "outputs": [
    {
     "name": "stdout",
     "output_type": "stream",
     "text": [
      "<class 'pandas.core.frame.DataFrame'>\n",
      "RangeIndex: 42602 entries, 0 to 42601\n",
      "Data columns (total 16 columns):\n",
      " #   Column       Non-Null Count  Dtype  \n",
      "---  ------       --------------  -----  \n",
      " 0   album_id     42602 non-null  int64  \n",
      " 1   title        42602 non-null  object \n",
      " 2   sub_title    42602 non-null  object \n",
      " 3   genre_large  42602 non-null  object \n",
      " 4   genre_mid    42602 non-null  object \n",
      " 5   genre_small  13419 non-null  object \n",
      " 6   country      33734 non-null  object \n",
      " 7   run_time     42602 non-null  int64  \n",
      " 8   onair_date   5344 non-null   float64\n",
      " 9   cast_1       27603 non-null  object \n",
      " 10  cast_2       22048 non-null  object \n",
      " 11  cast_3       16463 non-null  object \n",
      " 12  cast_4       12485 non-null  object \n",
      " 13  cast_5       6382 non-null   object \n",
      " 14  cast_6       2609 non-null   object \n",
      " 15  cast_7       762 non-null    object \n",
      "dtypes: float64(1), int64(2), object(13)\n",
      "memory usage: 5.2+ MB\n"
     ]
    }
   ],
   "source": [
    "meta_df.info()"
   ]
  },
  {
   "cell_type": "markdown",
   "metadata": {},
   "source": [
    "meta 테이블은 아이템 이름, 소제목, 분류들, 런타임, 주인공 등으로 이루어져 있습니다.\n",
    "\n",
    "다만 대부분의 칼럼에서 NULL 값이 많습니다. Content 기반으로 아이템을 분석하여 추천하기에는 조금 부족한 데이터로 생각됩니다."
   ]
  },
  {
   "cell_type": "code",
   "execution_count": 115,
   "metadata": {},
   "outputs": [
    {
     "data": {
      "text/plain": [
       "8231     4\n",
       "4083     4\n",
       "4932     4\n",
       "5314     4\n",
       "3843     4\n",
       "        ..\n",
       "16963    1\n",
       "32433    1\n",
       "32434    1\n",
       "32435    1\n",
       "11629    1\n",
       "Name: album_id, Length: 39875, dtype: int64"
      ]
     },
     "execution_count": 115,
     "metadata": {},
     "output_type": "execute_result"
    }
   ],
   "source": [
    "meta_df['album_id'].value_counts()"
   ]
  },
  {
   "cell_type": "markdown",
   "metadata": {},
   "source": [
    "앨범은 실제 39875개 존재하지만 meta 테이블 행 개수는 42602개가 존재합니다.\n",
    "\n",
    "왜 수천 개가 늘어났는지 살펴보면 일부 아이템이 여러 번 포함되어 있는 것이 확인됩니다."
   ]
  },
  {
   "cell_type": "code",
   "execution_count": 116,
   "metadata": {},
   "outputs": [
    {
     "data": {
      "text/html": [
       "<div>\n",
       "<style scoped>\n",
       "    .dataframe tbody tr th:only-of-type {\n",
       "        vertical-align: middle;\n",
       "    }\n",
       "\n",
       "    .dataframe tbody tr th {\n",
       "        vertical-align: top;\n",
       "    }\n",
       "\n",
       "    .dataframe thead th {\n",
       "        text-align: right;\n",
       "    }\n",
       "</style>\n",
       "<table border=\"1\" class=\"dataframe\">\n",
       "  <thead>\n",
       "    <tr style=\"text-align: right;\">\n",
       "      <th></th>\n",
       "      <th>album_id</th>\n",
       "      <th>title</th>\n",
       "      <th>sub_title</th>\n",
       "      <th>genre_large</th>\n",
       "      <th>genre_mid</th>\n",
       "      <th>genre_small</th>\n",
       "      <th>country</th>\n",
       "      <th>run_time</th>\n",
       "      <th>onair_date</th>\n",
       "      <th>cast_1</th>\n",
       "      <th>cast_2</th>\n",
       "      <th>cast_3</th>\n",
       "      <th>cast_4</th>\n",
       "      <th>cast_5</th>\n",
       "      <th>cast_6</th>\n",
       "      <th>cast_7</th>\n",
       "    </tr>\n",
       "  </thead>\n",
       "  <tbody>\n",
       "    <tr>\n",
       "      <th>13526</th>\n",
       "      <td>8231</td>\n",
       "      <td>알록달록 물고기</td>\n",
       "      <td>노래율동</td>\n",
       "      <td>키즈</td>\n",
       "      <td>노래율동</td>\n",
       "      <td>NaN</td>\n",
       "      <td>한국</td>\n",
       "      <td>64</td>\n",
       "      <td>NaN</td>\n",
       "      <td>NaN</td>\n",
       "      <td>NaN</td>\n",
       "      <td>NaN</td>\n",
       "      <td>NaN</td>\n",
       "      <td>NaN</td>\n",
       "      <td>NaN</td>\n",
       "      <td>NaN</td>\n",
       "    </tr>\n",
       "    <tr>\n",
       "      <th>13527</th>\n",
       "      <td>8231</td>\n",
       "      <td>알록달록 물고기</td>\n",
       "      <td>만 3세를 위한 영상</td>\n",
       "      <td>키즈</td>\n",
       "      <td>노래율동</td>\n",
       "      <td>NaN</td>\n",
       "      <td>한국</td>\n",
       "      <td>64</td>\n",
       "      <td>NaN</td>\n",
       "      <td>NaN</td>\n",
       "      <td>NaN</td>\n",
       "      <td>NaN</td>\n",
       "      <td>NaN</td>\n",
       "      <td>NaN</td>\n",
       "      <td>NaN</td>\n",
       "      <td>NaN</td>\n",
       "    </tr>\n",
       "    <tr>\n",
       "      <th>13528</th>\n",
       "      <td>8231</td>\n",
       "      <td>알록달록 물고기</td>\n",
       "      <td>만 4세를 위한 영상</td>\n",
       "      <td>키즈</td>\n",
       "      <td>노래율동</td>\n",
       "      <td>NaN</td>\n",
       "      <td>한국</td>\n",
       "      <td>64</td>\n",
       "      <td>NaN</td>\n",
       "      <td>NaN</td>\n",
       "      <td>NaN</td>\n",
       "      <td>NaN</td>\n",
       "      <td>NaN</td>\n",
       "      <td>NaN</td>\n",
       "      <td>NaN</td>\n",
       "      <td>NaN</td>\n",
       "    </tr>\n",
       "    <tr>\n",
       "      <th>13529</th>\n",
       "      <td>8231</td>\n",
       "      <td>알록달록 물고기</td>\n",
       "      <td>트니트니 율동 바다스페셜</td>\n",
       "      <td>키즈</td>\n",
       "      <td>노래율동</td>\n",
       "      <td>NaN</td>\n",
       "      <td>한국</td>\n",
       "      <td>64</td>\n",
       "      <td>NaN</td>\n",
       "      <td>NaN</td>\n",
       "      <td>NaN</td>\n",
       "      <td>NaN</td>\n",
       "      <td>NaN</td>\n",
       "      <td>NaN</td>\n",
       "      <td>NaN</td>\n",
       "      <td>NaN</td>\n",
       "    </tr>\n",
       "  </tbody>\n",
       "</table>\n",
       "</div>"
      ],
      "text/plain": [
       "       album_id     title      sub_title genre_large genre_mid genre_small  \\\n",
       "13526      8231  알록달록 물고기           노래율동          키즈      노래율동         NaN   \n",
       "13527      8231  알록달록 물고기    만 3세를 위한 영상          키즈      노래율동         NaN   \n",
       "13528      8231  알록달록 물고기    만 4세를 위한 영상          키즈      노래율동         NaN   \n",
       "13529      8231  알록달록 물고기  트니트니 율동 바다스페셜          키즈      노래율동         NaN   \n",
       "\n",
       "      country  run_time  onair_date cast_1 cast_2 cast_3 cast_4 cast_5 cast_6  \\\n",
       "13526      한국        64         NaN    NaN    NaN    NaN    NaN    NaN    NaN   \n",
       "13527      한국        64         NaN    NaN    NaN    NaN    NaN    NaN    NaN   \n",
       "13528      한국        64         NaN    NaN    NaN    NaN    NaN    NaN    NaN   \n",
       "13529      한국        64         NaN    NaN    NaN    NaN    NaN    NaN    NaN   \n",
       "\n",
       "      cast_7  \n",
       "13526    NaN  \n",
       "13527    NaN  \n",
       "13528    NaN  \n",
       "13529    NaN  "
      ]
     },
     "execution_count": 116,
     "metadata": {},
     "output_type": "execute_result"
    }
   ],
   "source": [
    "meta_df[(meta_df['album_id'] == 8231)]"
   ]
  },
  {
   "cell_type": "code",
   "execution_count": 12,
   "metadata": {},
   "outputs": [
    {
     "data": {
      "text/plain": [
       "39875"
      ]
     },
     "execution_count": 12,
     "metadata": {},
     "output_type": "execute_result"
    }
   ],
   "source": [
    "meta_df.drop(['sub_title'], axis = 1).drop_duplicates().reset_index(drop = True).shape[0]"
   ]
  },
  {
   "cell_type": "markdown",
   "metadata": {},
   "source": [
    "조금 더 자세히 살펴본 결과 sub_title만 다르고 나머지 형태는 일치하는 것이 보이네요.\n",
    "\n",
    "sub_title을 제외한 뒤 중복을 관찰해보니 정확히 39875개 나왔습니다."
   ]
  },
  {
   "cell_type": "code",
   "execution_count": 22,
   "metadata": {},
   "outputs": [
    {
     "name": "stdout",
     "output_type": "stream",
     "text": [
      "meta_plus 테이블 행 길이 :  767948\n",
      "\n",
      "meta_plus 테이블 예시\n",
      "   album_id keyword_type keyword_name  keyword_value\n",
      "0       749     05010101          시리즈              0\n",
      "1       749     05010302          EBS              0\n",
      "2       749     05010401           3세              0\n",
      "\n",
      "아이템 별 meta_plus 테이블 개수\n",
      "22057    99\n",
      "15927    98\n",
      "1216     95\n",
      "15942    95\n",
      "12000    95\n",
      "         ..\n",
      "32763     1\n",
      "30849     1\n",
      "33603     1\n",
      "30847     1\n",
      "37418     1\n",
      "Name: album_id, Length: 39875, dtype: int64\n"
     ]
    }
   ],
   "source": [
    "print('meta_plus 테이블 행 길이 : ', meta_plus_df.shape[0])\n",
    "print('')\n",
    "print('meta_plus 테이블 예시')\n",
    "print(meta_plus_df.head(3))\n",
    "print('')\n",
    "print('아이템 별 meta_plus 테이블 개수')\n",
    "print(meta_plus_df['album_id'].value_counts())"
   ]
  },
  {
   "cell_type": "markdown",
   "metadata": {},
   "source": [
    "meta_plus 테이블은 meta과 다르게 아이템 별로 keyword_name이 최대 99개로 많이 배정되어 있습니다.\n",
    "\n",
    "그렇기 때문에 아이템이 약 4만개더라도 meta_plus 테이블 행 길이는 약 76만개가 있는 것 같아요."
   ]
  },
  {
   "cell_type": "markdown",
   "metadata": {},
   "source": [
    "### 유저에 대해"
   ]
  },
  {
   "cell_type": "code",
   "execution_count": 27,
   "metadata": {},
   "outputs": [
    {
     "data": {
      "text/html": [
       "<div>\n",
       "<style scoped>\n",
       "    .dataframe tbody tr th:only-of-type {\n",
       "        vertical-align: middle;\n",
       "    }\n",
       "\n",
       "    .dataframe tbody tr th {\n",
       "        vertical-align: top;\n",
       "    }\n",
       "\n",
       "    .dataframe thead th {\n",
       "        text-align: right;\n",
       "    }\n",
       "</style>\n",
       "<table border=\"1\" class=\"dataframe\">\n",
       "  <thead>\n",
       "    <tr style=\"text-align: right;\">\n",
       "      <th></th>\n",
       "      <th>profile_id</th>\n",
       "      <th>sex</th>\n",
       "      <th>age</th>\n",
       "      <th>pr_interest_keyword_cd_1</th>\n",
       "      <th>pr_interest_keyword_cd_2</th>\n",
       "      <th>pr_interest_keyword_cd_3</th>\n",
       "      <th>ch_interest_keyword_cd_1</th>\n",
       "      <th>ch_interest_keyword_cd_2</th>\n",
       "      <th>ch_interest_keyword_cd_3</th>\n",
       "    </tr>\n",
       "  </thead>\n",
       "  <tbody>\n",
       "    <tr>\n",
       "      <th>5475</th>\n",
       "      <td>20075</td>\n",
       "      <td>F</td>\n",
       "      <td>5</td>\n",
       "      <td>P06</td>\n",
       "      <td>P08</td>\n",
       "      <td>P04</td>\n",
       "      <td>K01</td>\n",
       "      <td>K04</td>\n",
       "      <td>K07</td>\n",
       "    </tr>\n",
       "    <tr>\n",
       "      <th>6015</th>\n",
       "      <td>22067</td>\n",
       "      <td>F</td>\n",
       "      <td>9</td>\n",
       "      <td>P01</td>\n",
       "      <td>P07</td>\n",
       "      <td>P08</td>\n",
       "      <td>K03</td>\n",
       "      <td>K05</td>\n",
       "      <td>K06</td>\n",
       "    </tr>\n",
       "    <tr>\n",
       "      <th>8297</th>\n",
       "      <td>32984</td>\n",
       "      <td>F</td>\n",
       "      <td>4</td>\n",
       "      <td>P06</td>\n",
       "      <td>NaN</td>\n",
       "      <td>NaN</td>\n",
       "      <td>K01</td>\n",
       "      <td>K02</td>\n",
       "      <td>K04</td>\n",
       "    </tr>\n",
       "  </tbody>\n",
       "</table>\n",
       "</div>"
      ],
      "text/plain": [
       "      profile_id sex  age pr_interest_keyword_cd_1 pr_interest_keyword_cd_2  \\\n",
       "5475       20075   F    5                      P06                      P08   \n",
       "6015       22067   F    9                      P01                      P07   \n",
       "8297       32984   F    4                      P06                      NaN   \n",
       "\n",
       "     pr_interest_keyword_cd_3 ch_interest_keyword_cd_1  \\\n",
       "5475                      P04                      K01   \n",
       "6015                      P08                      K03   \n",
       "8297                      NaN                      K01   \n",
       "\n",
       "     ch_interest_keyword_cd_2 ch_interest_keyword_cd_3  \n",
       "5475                      K04                      K07  \n",
       "6015                      K05                      K06  \n",
       "8297                      K02                      K04  "
      ]
     },
     "execution_count": 27,
     "metadata": {},
     "output_type": "execute_result"
    }
   ],
   "source": [
    "profile_df.sample(3)"
   ]
  },
  {
   "cell_type": "code",
   "execution_count": 28,
   "metadata": {},
   "outputs": [
    {
     "name": "stdout",
     "output_type": "stream",
     "text": [
      "<class 'pandas.core.frame.DataFrame'>\n",
      "RangeIndex: 8311 entries, 0 to 8310\n",
      "Data columns (total 9 columns):\n",
      " #   Column                    Non-Null Count  Dtype \n",
      "---  ------                    --------------  ----- \n",
      " 0   profile_id                8311 non-null   int64 \n",
      " 1   sex                       8311 non-null   object\n",
      " 2   age                       8311 non-null   int64 \n",
      " 3   pr_interest_keyword_cd_1  8311 non-null   object\n",
      " 4   pr_interest_keyword_cd_2  6778 non-null   object\n",
      " 5   pr_interest_keyword_cd_3  6231 non-null   object\n",
      " 6   ch_interest_keyword_cd_1  8311 non-null   object\n",
      " 7   ch_interest_keyword_cd_2  6618 non-null   object\n",
      " 8   ch_interest_keyword_cd_3  6029 non-null   object\n",
      "dtypes: int64(2), object(7)\n",
      "memory usage: 584.5+ KB\n"
     ]
    }
   ],
   "source": [
    "profile_df.info()"
   ]
  },
  {
   "cell_type": "markdown",
   "metadata": {},
   "source": [
    "profile 테이블을 관찰했습니다. 유저 나이, 성별, 부모/아이의 관심 키워드가 존재합니다.\n",
    "\n",
    "부모 관심 키워드 2,3과 아이 관심 키워드 2,3은 null값이 존재하지만 1순위는 결측치 없습니다."
   ]
  },
  {
   "cell_type": "markdown",
   "metadata": {},
   "source": [
    "## History 테이블 집중 탐구 해보기."
   ]
  },
  {
   "cell_type": "code",
   "execution_count": 33,
   "metadata": {},
   "outputs": [
    {
     "name": "stdout",
     "output_type": "stream",
     "text": [
      "총 데이터 1005651개 중 중복 값은 106399개 입니다\n"
     ]
    }
   ],
   "source": [
    "duplicate = sum(history_df[['profile_id', 'log_time', 'album_id']].duplicated())\n",
    "print(f'총 데이터 {history_df.shape[0]}개 중 중복 값은 {duplicate}개 입니다')"
   ]
  },
  {
   "cell_type": "markdown",
   "metadata": {},
   "source": [
    "전체 데이터 중 약 10%가 동일한 유저가 같은 아이템을 동일한 시각에 보았다고 기록됬습니다.\n",
    "\n",
    "의미 없는 중복만을 야기한다고 판단하여 제외하였습니다."
   ]
  },
  {
   "cell_type": "code",
   "execution_count": 39,
   "metadata": {},
   "outputs": [
    {
     "data": {
      "text/plain": [
       "16      12643\n",
       "15       8695\n",
       "19       7089\n",
       "17       6528\n",
       "18       6484\n",
       "124      6410\n",
       "38       5989\n",
       "241      5218\n",
       "125      4569\n",
       "65       4382\n",
       "224      3864\n",
       "339      3845\n",
       "228      3704\n",
       "1880     3665\n",
       "347      3658\n",
       "225      3401\n",
       "39       3311\n",
       "329      3251\n",
       "3502     3159\n",
       "190      3119\n",
       "Name: album_id, dtype: int64"
      ]
     },
     "execution_count": 39,
     "metadata": {},
     "output_type": "execute_result"
    }
   ],
   "source": [
    "history_df['album_id'].value_counts()[:20]"
   ]
  },
  {
   "cell_type": "code",
   "execution_count": 60,
   "metadata": {},
   "outputs": [
    {
     "data": {
      "text/plain": [
       "<AxesSubplot: >"
      ]
     },
     "execution_count": 60,
     "metadata": {},
     "output_type": "execute_result"
    },
    {
     "data": {
      "image/png": "[encoded data removed]",
      "text/plain": [
       "<Figure size 640x480 with 1 Axes>"
      ]
     },
     "metadata": {},
     "output_type": "display_data"
    }
   ],
   "source": [
    "history_df['album_id'].value_counts()[200:].hist()"
   ]
  },
  {
   "cell_type": "markdown",
   "metadata": {},
   "source": [
    "유저-아이템 상호작용 테이블에서 인기 아이템이 무엇인지 살펴봤는데요.\n",
    "\n",
    "일부 아이템(16, 15 ..)은 시청횟수가 굉장히 높습니다.\n",
    "\n",
    "일부 아이템을 제외한 히스토그램을 보면 아이템의 인기가 상당히 편향된 것을 알 수 있습니다."
   ]
  },
  {
   "cell_type": "code",
   "execution_count": 41,
   "metadata": {},
   "outputs": [
    {
     "data": {
      "text/html": [
       "<div>\n",
       "<style scoped>\n",
       "    .dataframe tbody tr th:only-of-type {\n",
       "        vertical-align: middle;\n",
       "    }\n",
       "\n",
       "    .dataframe tbody tr th {\n",
       "        vertical-align: top;\n",
       "    }\n",
       "\n",
       "    .dataframe thead th {\n",
       "        text-align: right;\n",
       "    }\n",
       "</style>\n",
       "<table border=\"1\" class=\"dataframe\">\n",
       "  <thead>\n",
       "    <tr style=\"text-align: right;\">\n",
       "      <th></th>\n",
       "      <th>profile_id</th>\n",
       "      <th>ss_id</th>\n",
       "      <th>log_time</th>\n",
       "      <th>act_target_dtl</th>\n",
       "      <th>album_id</th>\n",
       "      <th>payment</th>\n",
       "      <th>continuous_play</th>\n",
       "      <th>short_trailer</th>\n",
       "    </tr>\n",
       "  </thead>\n",
       "  <tbody>\n",
       "    <tr>\n",
       "      <th>0</th>\n",
       "      <td>3</td>\n",
       "      <td>20220301115653</td>\n",
       "      <td>20220301115719</td>\n",
       "      <td>MKID003</td>\n",
       "      <td>15</td>\n",
       "      <td>NaN</td>\n",
       "      <td>Y</td>\n",
       "      <td>N</td>\n",
       "    </tr>\n",
       "    <tr>\n",
       "      <th>1</th>\n",
       "      <td>3</td>\n",
       "      <td>20220301115653</td>\n",
       "      <td>20220301115809</td>\n",
       "      <td>MKID003</td>\n",
       "      <td>16</td>\n",
       "      <td>NaN</td>\n",
       "      <td>Y</td>\n",
       "      <td>N</td>\n",
       "    </tr>\n",
       "    <tr>\n",
       "      <th>2</th>\n",
       "      <td>3</td>\n",
       "      <td>20220301115653</td>\n",
       "      <td>20220301115958</td>\n",
       "      <td>MKID003</td>\n",
       "      <td>17</td>\n",
       "      <td>NaN</td>\n",
       "      <td>Y</td>\n",
       "      <td>N</td>\n",
       "    </tr>\n",
       "    <tr>\n",
       "      <th>3</th>\n",
       "      <td>3</td>\n",
       "      <td>20220301115653</td>\n",
       "      <td>20220301120118</td>\n",
       "      <td>MKID003</td>\n",
       "      <td>18</td>\n",
       "      <td>NaN</td>\n",
       "      <td>Y</td>\n",
       "      <td>N</td>\n",
       "    </tr>\n",
       "    <tr>\n",
       "      <th>4</th>\n",
       "      <td>3</td>\n",
       "      <td>20220301115653</td>\n",
       "      <td>20220301120229</td>\n",
       "      <td>MKID003</td>\n",
       "      <td>19</td>\n",
       "      <td>NaN</td>\n",
       "      <td>Y</td>\n",
       "      <td>N</td>\n",
       "    </tr>\n",
       "  </tbody>\n",
       "</table>\n",
       "</div>"
      ],
      "text/plain": [
       "   profile_id           ss_id        log_time act_target_dtl  album_id  \\\n",
       "0           3  20220301115653  20220301115719        MKID003        15   \n",
       "1           3  20220301115653  20220301115809        MKID003        16   \n",
       "2           3  20220301115653  20220301115958        MKID003        17   \n",
       "3           3  20220301115653  20220301120118        MKID003        18   \n",
       "4           3  20220301115653  20220301120229        MKID003        19   \n",
       "\n",
       "   payment continuous_play short_trailer  \n",
       "0      NaN               Y             N  \n",
       "1      NaN               Y             N  \n",
       "2      NaN               Y             N  \n",
       "3      NaN               Y             N  \n",
       "4      NaN               Y             N  "
      ]
     },
     "execution_count": 41,
     "metadata": {},
     "output_type": "execute_result"
    }
   ],
   "source": [
    "history_df.head()"
   ]
  },
  {
   "cell_type": "code",
   "execution_count": 45,
   "metadata": {},
   "outputs": [
    {
     "data": {
      "text/plain": [
       "2794     18190\n",
       "3847     14014\n",
       "13450     8086\n",
       "6155      5606\n",
       "6107      5495\n",
       "22292     4827\n",
       "10241     4490\n",
       "7708      3699\n",
       "25386     3572\n",
       "17424     3468\n",
       "Name: profile_id, dtype: int64"
      ]
     },
     "execution_count": 45,
     "metadata": {},
     "output_type": "execute_result"
    }
   ],
   "source": [
    "history_df['profile_id'].value_counts()[:10]"
   ]
  },
  {
   "cell_type": "markdown",
   "metadata": {},
   "source": [
    "일부 유저는 만개가 넘는 시청기록이 있는 등 유저를 기준으로 관찰해도 데이터 개수의 편차가 큽니다."
   ]
  },
  {
   "cell_type": "code",
   "execution_count": 47,
   "metadata": {},
   "outputs": [
    {
     "data": {
      "text/plain": [
       "1321"
      ]
     },
     "execution_count": 47,
     "metadata": {},
     "output_type": "execute_result"
    }
   ],
   "source": [
    "n = 5\n",
    "sum(history_df['profile_id'].value_counts() <= n)"
   ]
  },
  {
   "cell_type": "markdown",
   "metadata": {},
   "source": [
    "특히 5개 이하의 시청기록을 가진 유저가 약 1300명인데요. cold start 유저가 상당한 것을 알 수 있어요."
   ]
  },
  {
   "cell_type": "code",
   "execution_count": 58,
   "metadata": {},
   "outputs": [
    {
     "name": "stdout",
     "output_type": "stream",
     "text": [
      "유저 수 : 8311, 아이템 수 : 20695, 유저-아이템 칼럼수 : 899252\n",
      "이상적인 유저-아이템 칼럼 수 : 171996145, 결측 값 비율 : 99.4772%\n"
     ]
    }
   ],
   "source": [
    "data = history_df[['profile_id', 'log_time', 'album_id']].drop_duplicates(subset=['profile_id', 'album_id', 'log_time'])\n",
    "u_num = data['profile_id'].nunique()\n",
    "i_num = data['album_id'].nunique()\n",
    "print(f'유저 수 : {u_num}, 아이템 수 : {i_num}, 유저-아이템 칼럼수 : {data.shape[0]}')\n",
    "print(f'이상적인 유저-아이템 칼럼 수 : {u_num*i_num}, 결측 값 비율 : {np.round((1-data.shape[0]/(u_num*i_num))*100,4)}%')"
   ]
  },
  {
   "cell_type": "markdown",
   "metadata": {},
   "source": [
    "유저-아이템 칼럼의 결측 값 비율은 99.4772%로 다른 테이블 대비 결측 값 비율이 심각하지 않습니다.\n",
    "\n",
    "다만 특정 유저나 아이템에 한에서 데이터가 굉장히 많은 점, 네거티브 반응이 없는 점은 모델링을 어렵게 하는 부분입니다."
   ]
  },
  {
   "cell_type": "markdown",
   "metadata": {},
   "source": [
    "## 칼럼 별 아이템 분포도 알아보기."
   ]
  },
  {
   "cell_type": "code",
   "execution_count": null,
   "metadata": {},
   "outputs": [],
   "source": []
  }
 ],
 "metadata": {
  "kernelspec": {
   "display_name": "Python 3.10.8 ('ksy')",
   "language": "python",
   "name": "python3"
  },
  "language_info": {
   "codemirror_mode": {
    "name": "ipython",
    "version": 3
   },
   "file_extension": ".py",
   "mimetype": "text/x-python",
   "name": "python",
   "nbconvert_exporter": "python",
   "pygments_lexer": "ipython3",
   "version": "3.10.8"
  },
  "orig_nbformat": 4,
  "vscode": {
   "interpreter": {
    "hash": "e88c8a57f3c8bc3f55a30a7654691f691be3714692d31d0dbfc1c68d13580472"
   }
  }
 },
 "nbformat": 4,
 "nbformat_minor": 2
}
