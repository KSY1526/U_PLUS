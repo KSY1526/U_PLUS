{
 "cells": [
  {
   "cell_type": "markdown",
   "metadata": {},
   "source": [
    "# 데이터 EDA"
   ]
  },
  {
   "cell_type": "markdown",
   "metadata": {},
   "source": [
    "## 패키지 설치, 데이터 불러오기"
   ]
  },
  {
   "cell_type": "code",
   "execution_count": 110,
   "metadata": {},
   "outputs": [],
   "source": [
    "import warnings\n",
    "warnings.filterwarnings('ignore')\n",
    "\n",
    "import numpy as np\n",
    "import pandas as pd\n",
    "from tqdm.notebook import tqdm\n",
    "from sklearn.model_selection import train_test_split\n",
    "from collections import defaultdict\n",
    "import os, random\n",
    "\n",
    "from scipy import sparse\n",
    "from sklearn.preprocessing import LabelEncoder\n",
    "import matplotlib.pyplot as plt\n",
    "%matplotlib inline\n",
    "\n",
    "# 경로 설정\n",
    "data_path = '../../data'\n",
    "saved_path = './../saved'\n",
    "output_path = './../submission'"
   ]
  },
  {
   "cell_type": "code",
   "execution_count": 119,
   "metadata": {},
   "outputs": [],
   "source": [
    "# 데이터 불러오기\n",
    "# 시청 시작/종료 데이터\n",
    "history_df = pd.read_csv(os.path.join(data_path, 'history_data.csv'), encoding='utf-8')\n",
    "watch_df = pd.read_csv(os.path.join(data_path, 'watch_e_data.csv'), encoding='utf-8')\n",
    "\n",
    "# 구매/검색 데이터\n",
    "buy_df = pd.read_csv(os.path.join(data_path, 'buy_data.csv'), encoding='utf-8')\n",
    "search_df = pd.read_csv(os.path.join(data_path, 'search_data.csv'), encoding='utf-8')\n",
    "\n",
    "# 콘텐츠(아이템) 메타정보 데이터\n",
    "meta_df = pd.read_csv(os.path.join(data_path, 'meta_data.csv'), encoding='utf-8')\n",
    "meta_plus_df = pd.read_csv(os.path.join(data_path, 'meta_data_plus.csv'), encoding='utf-8')\n",
    "\n",
    "# 유저 프로필 데이터\n",
    "profile_df = pd.read_csv(os.path.join(data_path, 'profile_data.csv'), encoding='utf-8')\n",
    "\n",
    "# 제출 파일 데이터\n",
    "submission_df = pd.read_csv(os.path.join(data_path, 'sample_submission.csv'), encoding='utf-8')\n",
    "\n",
    "# 이미 제출한 파일?\n",
    "tem_df = pd.read_csv(os.path.join(output_path, 'submission.csv'), encoding='utf-8')\n"
   ]
  },
  {
   "cell_type": "markdown",
   "metadata": {},
   "source": [
    "## 데이터 테이블 이해해보기"
   ]
  },
  {
   "cell_type": "markdown",
   "metadata": {},
   "source": [
    "### 유저 - 아이템 상호작용 데이터에 대해"
   ]
  },
  {
   "cell_type": "code",
   "execution_count": 112,
   "metadata": {},
   "outputs": [
    {
     "name": "stdout",
     "output_type": "stream",
     "text": [
      "history_df\n",
      "테이블 총 길이는 1005651\n",
      "아이템 개수는 20695\n",
      "유저 수는 8311\n",
      "act_target_dtl 변수는 MKID003\n",
      "\n",
      "watch_df\n",
      "테이블 총 길이는 892794\n",
      "아이템 개수는 20361\n",
      "유저 수는 7658\n",
      "act_target_dtl 변수는 MKID049\n",
      "\n",
      "buy_df\n",
      "테이블 총 길이는 150\n",
      "아이템 개수는 126\n",
      "유저 수는 17\n",
      "act_target_dtl 변수는 MKID004\n",
      "\n",
      "search_df\n",
      "테이블 총 길이는 6474\n",
      "아이템 개수는 1977\n",
      "유저 수는 644\n",
      "act_target_dtl 변수는 MKID017\n",
      "\n",
      "meta 테이블 아이템 개수는 39875\n",
      "meta_plus 테이블 아이템 개수는 39875\n",
      "profile 테이블 유저 수는 8311\n"
     ]
    }
   ],
   "source": [
    "def info(table):\n",
    "    all_nums = table.shape[0]\n",
    "    item_nums = table['album_id'].nunique()\n",
    "    user_nums = table['profile_id'].nunique()\n",
    "    act_value = table['act_target_dtl'][0]\n",
    "    print(f'테이블 총 길이는 {all_nums}')\n",
    "    print(f'아이템 개수는 {item_nums}')\n",
    "    print(f'유저 수는 {user_nums}')\n",
    "    print(f'act_target_dtl 변수는 {act_value}')\n",
    "    print('')\n",
    "\n",
    "print('history_df')\n",
    "info(history_df)\n",
    "print('watch_df')\n",
    "info(watch_df)\n",
    "print('buy_df')\n",
    "info(buy_df)\n",
    "print('search_df')\n",
    "info(search_df)\n",
    "\n",
    "print('meta 테이블 아이템 개수는', meta_df['album_id'].nunique())\n",
    "print('meta_plus 테이블 아이템 개수는', meta_plus_df['album_id'].nunique())\n",
    "# 767948로 많은 이유가 뭘까??\n",
    "print('profile 테이블 유저 수는', profile_df['profile_id'].nunique())"
   ]
  },
  {
   "cell_type": "markdown",
   "metadata": {},
   "source": [
    "1) buy_df, search_df 테이블은 생각보다 크지 않다. 나중에 고려해도 될수도?\n",
    "2) 기록되어 있는 Item은 2만여개, 실제 meta 아이템은 4만여개. 생각할 여지가 많은 부분.\n",
    "2-1) 여러 번 리더보드 제출을 통해 경험해야 할 부분. train에 없는 item을 test에 많이 추천해야 하는지?\n",
    "2-2) 이렇게 되면 유저-아이템간 그래프 관계보다 아이템 내 Context 정보를 이용하는게 좋을지도?\n",
    "3) profile 유저수는 8311, train 데이터 내 유저 수 또한 8311. 아에 처음 본 유저를 예측하는 것은 아님."
   ]
  },
  {
   "cell_type": "markdown",
   "metadata": {},
   "source": [
    "### 메타(아이템)정보에 대해"
   ]
  },
  {
   "cell_type": "code",
   "execution_count": 113,
   "metadata": {},
   "outputs": [
    {
     "name": "stdout",
     "output_type": "stream",
     "text": [
      "(42602, 16)\n",
      "(767948, 4)\n",
      "meta 테이블 아이템 개수는 39875\n",
      "meta_plus 테이블 아이템 개수는 39875\n"
     ]
    }
   ],
   "source": [
    "print(meta_df.shape)\n",
    "print(meta_plus_df.shape)\n",
    "print('meta 테이블 아이템 개수는', meta_df['album_id'].nunique())\n",
    "print('meta_plus 테이블 아이템 개수는', meta_plus_df['album_id'].nunique())"
   ]
  },
  {
   "cell_type": "code",
   "execution_count": 114,
   "metadata": {},
   "outputs": [
    {
     "name": "stdout",
     "output_type": "stream",
     "text": [
      "<class 'pandas.core.frame.DataFrame'>\n",
      "RangeIndex: 42602 entries, 0 to 42601\n",
      "Data columns (total 16 columns):\n",
      " #   Column       Non-Null Count  Dtype  \n",
      "---  ------       --------------  -----  \n",
      " 0   album_id     42602 non-null  int64  \n",
      " 1   title        42602 non-null  object \n",
      " 2   sub_title    42602 non-null  object \n",
      " 3   genre_large  42602 non-null  object \n",
      " 4   genre_mid    42602 non-null  object \n",
      " 5   genre_small  13419 non-null  object \n",
      " 6   country      33734 non-null  object \n",
      " 7   run_time     42602 non-null  int64  \n",
      " 8   onair_date   5344 non-null   float64\n",
      " 9   cast_1       27603 non-null  object \n",
      " 10  cast_2       22048 non-null  object \n",
      " 11  cast_3       16463 non-null  object \n",
      " 12  cast_4       12485 non-null  object \n",
      " 13  cast_5       6382 non-null   object \n",
      " 14  cast_6       2609 non-null   object \n",
      " 15  cast_7       762 non-null    object \n",
      "dtypes: float64(1), int64(2), object(13)\n",
      "memory usage: 5.2+ MB\n"
     ]
    }
   ],
   "source": [
    "meta_df.info() # NULL 값이 참 많다. onair_date 변수 또한 무의미할수도."
   ]
  },
  {
   "cell_type": "code",
   "execution_count": 115,
   "metadata": {},
   "outputs": [
    {
     "data": {
      "text/plain": [
       "8231     4\n",
       "4083     4\n",
       "4932     4\n",
       "5314     4\n",
       "3843     4\n",
       "        ..\n",
       "16963    1\n",
       "32433    1\n",
       "32434    1\n",
       "32435    1\n",
       "11629    1\n",
       "Name: album_id, Length: 39875, dtype: int64"
      ]
     },
     "execution_count": 115,
     "metadata": {},
     "output_type": "execute_result"
    }
   ],
   "source": [
    "# 앨범은 실제 39875개 존재하지만 meta_df은 42602개 존재\n",
    "# 왜 수천 개가 늘어났는지 살펴봅시다.\n",
    "meta_df['album_id'].value_counts()"
   ]
  },
  {
   "cell_type": "code",
   "execution_count": 116,
   "metadata": {},
   "outputs": [
    {
     "data": {
      "text/html": [
       "<div>\n",
       "<style scoped>\n",
       "    .dataframe tbody tr th:only-of-type {\n",
       "        vertical-align: middle;\n",
       "    }\n",
       "\n",
       "    .dataframe tbody tr th {\n",
       "        vertical-align: top;\n",
       "    }\n",
       "\n",
       "    .dataframe thead th {\n",
       "        text-align: right;\n",
       "    }\n",
       "</style>\n",
       "<table border=\"1\" class=\"dataframe\">\n",
       "  <thead>\n",
       "    <tr style=\"text-align: right;\">\n",
       "      <th></th>\n",
       "      <th>album_id</th>\n",
       "      <th>title</th>\n",
       "      <th>sub_title</th>\n",
       "      <th>genre_large</th>\n",
       "      <th>genre_mid</th>\n",
       "      <th>genre_small</th>\n",
       "      <th>country</th>\n",
       "      <th>run_time</th>\n",
       "      <th>onair_date</th>\n",
       "      <th>cast_1</th>\n",
       "      <th>cast_2</th>\n",
       "      <th>cast_3</th>\n",
       "      <th>cast_4</th>\n",
       "      <th>cast_5</th>\n",
       "      <th>cast_6</th>\n",
       "      <th>cast_7</th>\n",
       "    </tr>\n",
       "  </thead>\n",
       "  <tbody>\n",
       "    <tr>\n",
       "      <th>13526</th>\n",
       "      <td>8231</td>\n",
       "      <td>알록달록 물고기</td>\n",
       "      <td>노래율동</td>\n",
       "      <td>키즈</td>\n",
       "      <td>노래율동</td>\n",
       "      <td>NaN</td>\n",
       "      <td>한국</td>\n",
       "      <td>64</td>\n",
       "      <td>NaN</td>\n",
       "      <td>NaN</td>\n",
       "      <td>NaN</td>\n",
       "      <td>NaN</td>\n",
       "      <td>NaN</td>\n",
       "      <td>NaN</td>\n",
       "      <td>NaN</td>\n",
       "      <td>NaN</td>\n",
       "    </tr>\n",
       "    <tr>\n",
       "      <th>13527</th>\n",
       "      <td>8231</td>\n",
       "      <td>알록달록 물고기</td>\n",
       "      <td>만 3세를 위한 영상</td>\n",
       "      <td>키즈</td>\n",
       "      <td>노래율동</td>\n",
       "      <td>NaN</td>\n",
       "      <td>한국</td>\n",
       "      <td>64</td>\n",
       "      <td>NaN</td>\n",
       "      <td>NaN</td>\n",
       "      <td>NaN</td>\n",
       "      <td>NaN</td>\n",
       "      <td>NaN</td>\n",
       "      <td>NaN</td>\n",
       "      <td>NaN</td>\n",
       "      <td>NaN</td>\n",
       "    </tr>\n",
       "    <tr>\n",
       "      <th>13528</th>\n",
       "      <td>8231</td>\n",
       "      <td>알록달록 물고기</td>\n",
       "      <td>만 4세를 위한 영상</td>\n",
       "      <td>키즈</td>\n",
       "      <td>노래율동</td>\n",
       "      <td>NaN</td>\n",
       "      <td>한국</td>\n",
       "      <td>64</td>\n",
       "      <td>NaN</td>\n",
       "      <td>NaN</td>\n",
       "      <td>NaN</td>\n",
       "      <td>NaN</td>\n",
       "      <td>NaN</td>\n",
       "      <td>NaN</td>\n",
       "      <td>NaN</td>\n",
       "      <td>NaN</td>\n",
       "    </tr>\n",
       "    <tr>\n",
       "      <th>13529</th>\n",
       "      <td>8231</td>\n",
       "      <td>알록달록 물고기</td>\n",
       "      <td>트니트니 율동 바다스페셜</td>\n",
       "      <td>키즈</td>\n",
       "      <td>노래율동</td>\n",
       "      <td>NaN</td>\n",
       "      <td>한국</td>\n",
       "      <td>64</td>\n",
       "      <td>NaN</td>\n",
       "      <td>NaN</td>\n",
       "      <td>NaN</td>\n",
       "      <td>NaN</td>\n",
       "      <td>NaN</td>\n",
       "      <td>NaN</td>\n",
       "      <td>NaN</td>\n",
       "      <td>NaN</td>\n",
       "    </tr>\n",
       "  </tbody>\n",
       "</table>\n",
       "</div>"
      ],
      "text/plain": [
       "       album_id     title      sub_title genre_large genre_mid genre_small  \\\n",
       "13526      8231  알록달록 물고기           노래율동          키즈      노래율동         NaN   \n",
       "13527      8231  알록달록 물고기    만 3세를 위한 영상          키즈      노래율동         NaN   \n",
       "13528      8231  알록달록 물고기    만 4세를 위한 영상          키즈      노래율동         NaN   \n",
       "13529      8231  알록달록 물고기  트니트니 율동 바다스페셜          키즈      노래율동         NaN   \n",
       "\n",
       "      country  run_time  onair_date cast_1 cast_2 cast_3 cast_4 cast_5 cast_6  \\\n",
       "13526      한국        64         NaN    NaN    NaN    NaN    NaN    NaN    NaN   \n",
       "13527      한국        64         NaN    NaN    NaN    NaN    NaN    NaN    NaN   \n",
       "13528      한국        64         NaN    NaN    NaN    NaN    NaN    NaN    NaN   \n",
       "13529      한국        64         NaN    NaN    NaN    NaN    NaN    NaN    NaN   \n",
       "\n",
       "      cast_7  \n",
       "13526    NaN  \n",
       "13527    NaN  \n",
       "13528    NaN  \n",
       "13529    NaN  "
      ]
     },
     "execution_count": 116,
     "metadata": {},
     "output_type": "execute_result"
    }
   ],
   "source": [
    "# sub_title만 다르고 나머지 형태는 일치하는 것이 보이네요.\n",
    "meta_df[(meta_df['album_id'] == 8231)]"
   ]
  },
  {
   "cell_type": "code",
   "execution_count": 117,
   "metadata": {},
   "outputs": [
    {
     "data": {
      "text/plain": [
       "(39875, 15)"
      ]
     },
     "execution_count": 117,
     "metadata": {},
     "output_type": "execute_result"
    }
   ],
   "source": [
    "# sub_title을 제외한 뒤 중복을 관찰해보니 정확히 39875개 나왔습니다.\n",
    "meta_df = meta_df.drop(['sub_title'], axis = 1).drop_duplicates().reset_index(drop = True)\n",
    "meta_df.shape"
   ]
  },
  {
   "cell_type": "code",
   "execution_count": 38,
   "metadata": {},
   "outputs": [
    {
     "name": "stdout",
     "output_type": "stream",
     "text": [
      "05010101    32644\n",
      "05020203    30040\n",
      "05090806    26135\n",
      "05090802    23611\n",
      "05010601    16553\n",
      "            ...  \n",
      "05030808        1\n",
      "05010e03        1\n",
      "05010910        1\n",
      "0509071c        1\n",
      "05040228        1\n",
      "Name: keyword_type, Length: 1101, dtype: int64\n",
      "131\n"
     ]
    }
   ],
   "source": [
    "# 키워드 종류는 특이한게 많다??\n",
    "print(meta_plus_df['keyword_type'].value_counts())\n",
    "n = 10\n",
    "# n개 이하의 개수를 가진 키워드는 몇개나 될까?\n",
    "print(sum(meta_plus_df['keyword_type'].value_counts() < n))"
   ]
  },
  {
   "cell_type": "markdown",
   "metadata": {},
   "source": [
    "### 유저에 대해"
   ]
  },
  {
   "cell_type": "code",
   "execution_count": 69,
   "metadata": {},
   "outputs": [
    {
     "name": "stdout",
     "output_type": "stream",
     "text": [
      "<class 'pandas.core.frame.DataFrame'>\n",
      "RangeIndex: 1005651 entries, 0 to 1005650\n",
      "Data columns (total 8 columns):\n",
      " #   Column           Non-Null Count    Dtype  \n",
      "---  ------           --------------    -----  \n",
      " 0   profile_id       1005651 non-null  int64  \n",
      " 1   ss_id            1005651 non-null  int64  \n",
      " 2   log_time         1005651 non-null  int64  \n",
      " 3   act_target_dtl   1005651 non-null  object \n",
      " 4   album_id         1005651 non-null  int64  \n",
      " 5   payment          73486 non-null    float64\n",
      " 6   continuous_play  1005651 non-null  object \n",
      " 7   short_trailer    1005651 non-null  object \n",
      "dtypes: float64(1), int64(4), object(3)\n",
      "memory usage: 61.4+ MB\n"
     ]
    }
   ],
   "source": [
    "history_df.info() # payment 변수 NULL 값이 너무 많다."
   ]
  },
  {
   "cell_type": "code",
   "execution_count": 70,
   "metadata": {},
   "outputs": [
    {
     "name": "stdout",
     "output_type": "stream",
     "text": [
      "0\n"
     ]
    },
    {
     "data": {
      "text/plain": [
       "<AxesSubplot: >"
      ]
     },
     "execution_count": 70,
     "metadata": {},
     "output_type": "execute_result"
    },
    {
     "data": {
      "image/png": "[encoded data removed]",
      "text/plain": [
       "<Figure size 640x480 with 1 Axes>"
      ]
     },
     "metadata": {},
     "output_type": "display_data"
    }
   ],
   "source": [
    "print(sum(history_df['payment'] == 0))\n",
    "history_df['payment'].hist()"
   ]
  },
  {
   "cell_type": "markdown",
   "metadata": {},
   "source": [
    "공짜로 구매한 것이 NULL 값으로 취급됬다고 판단."
   ]
  },
  {
   "cell_type": "code",
   "execution_count": 80,
   "metadata": {},
   "outputs": [],
   "source": [
    "# 중복기록 제거\n",
    "data = history_df[['profile_id', 'log_time', 'album_id']].drop_duplicates(subset=['profile_id', 'album_id', 'log_time']).sort_values(by = ['profile_id', 'log_time']).reset_index(drop = True)\n",
    "# 한 유저가 몇개의 컨텐츠를 즐겼는지\n",
    "user_item_num = data.groupby('profile_id')['album_id'].nunique()"
   ]
  },
  {
   "cell_type": "code",
   "execution_count": 99,
   "metadata": {},
   "outputs": [
    {
     "name": "stdout",
     "output_type": "stream",
     "text": [
      "전체 유저 8311명 중 5개 이하의 아이템을 기록한 유저가 1629명입니다.\n",
      "submission 파일 길이는 8311로 출력 데이터는 모든 유저를 포함하고 있습니다.\n"
     ]
    }
   ],
   "source": [
    "n = 5\n",
    "all_user = len(user_item_num)\n",
    "n_lower_user = sum(user_item_num <= n)\n",
    "\n",
    "print(f'전체 유저 {all_user}명 중 {n}개 이하의 아이템을 기록한 유저가 {n_lower_user}명입니다.')\n",
    "print(f'submission 파일 길이는 {len(submission_df)}로 출력 데이터는 모든 유저를 포함하고 있습니다.')\n",
    "# cold start 유저도 생각해볼 필요가 있음."
   ]
  },
  {
   "cell_type": "markdown",
   "metadata": {},
   "source": [
    "### baseline 모델이 얼마나 다양한 아이템을 추천할까?"
   ]
  },
  {
   "cell_type": "code",
   "execution_count": 132,
   "metadata": {},
   "outputs": [],
   "source": [
    "_set = set()\n",
    "\n",
    "for i in range(8311):\n",
    "    _set.update(eval(tem_df['predicted_list'][i]))"
   ]
  },
  {
   "cell_type": "code",
   "execution_count": 146,
   "metadata": {},
   "outputs": [
    {
     "name": "stdout",
     "output_type": "stream",
     "text": [
      "14165\n",
      "20695\n",
      "39875\n"
     ]
    },
    {
     "data": {
      "text/plain": [
       "set()"
      ]
     },
     "execution_count": 146,
     "metadata": {},
     "output_type": "execute_result"
    }
   ],
   "source": [
    "print(len(_set))\n",
    "print(len(set(history_df['album_id'])))\n",
    "print(len(set(meta_df['album_id'])))\n",
    "_set - set(history_df['album_id']) # _set에서 train 데이터를 제외한 값"
   ]
  },
  {
   "cell_type": "markdown",
   "metadata": {},
   "source": [
    "train 데이터 내 있는 아이템 이외에 아이템은 추천하지 않습니다.\n",
    "\n",
    "약 2만개 신생 아이템은 추천 받을 기회 조차 없군요."
   ]
  }
 ],
 "metadata": {
  "kernelspec": {
   "display_name": "Python 3.6.9 64-bit",
   "language": "python",
   "name": "python3"
  },
  "language_info": {
   "codemirror_mode": {
    "name": "ipython",
    "version": 3
   },
   "file_extension": ".py",
   "mimetype": "text/x-python",
   "name": "python",
   "nbconvert_exporter": "python",
   "pygments_lexer": "ipython3",
   "version": "3.6.9"
  },
  "orig_nbformat": 4,
  "vscode": {
   "interpreter": {
    "hash": "31f2aee4e71d21fbe5cf8b01ff0e069b9275f58929596ceb00d14d90e3e16cd6"
   }
  }
 },
 "nbformat": 4,
 "nbformat_minor": 2
}
